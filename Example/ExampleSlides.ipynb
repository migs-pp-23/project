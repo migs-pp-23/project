{
 "cells": [
  {
   "cell_type": "markdown",
   "metadata": {
    "slideshow": {
     "slide_type": "slide"
    }
   },
   "source": [
    "# My amazing Python project\n",
    "\n",
    "Firstname Lastname\n",
    "\n",
    "25 October 2022"
   ]
  },
  {
   "cell_type": "markdown",
   "metadata": {
    "slideshow": {
     "slide_type": "slide"
    }
   },
   "source": [
    "## Introduction\n",
    "\n",
    "**Note:** when working with external modules in Jupyter, every time you make a change in `my_awesome_module.py`, you need to re-load it in your notebook. If you've imported it with\n",
    "\n",
    "```python\n",
    "import my_awesome_module as mod\n",
    "```\n",
    "\n",
    "then you can use `importlib.reload()` ([documentation](https://docs.python.org/3.8/library/importlib.html?highlight=reload#importlib.reload)):\n",
    "\n",
    "```python\n",
    "from importlib import reload\n",
    "reload(mod)\n",
    "```"
   ]
  },
  {
   "cell_type": "markdown",
   "metadata": {
    "slideshow": {
     "slide_type": "subslide"
    }
   },
   "source": [
    "A sub-slide with a code example you can edit and run (Ctrl+Enter):"
   ]
  },
  {
   "cell_type": "code",
   "execution_count": null,
   "metadata": {},
   "outputs": [],
   "source": [
    "import my_awesome_module as mod\n",
    "\n",
    "# Generate some data and display it\n",
    "my_data = mod.generate_data(N=200, centre=[1.2, -0.8], std=0.3)\n",
    "mod.show_data(my_data)"
   ]
  }
 ],
 "metadata": {
  "celltoolbar": "Slideshow",
  "kernelspec": {
   "display_name": "Python 3 (ipykernel)",
   "language": "python",
   "name": "python3"
  },
  "language_info": {
   "codemirror_mode": {
    "name": "ipython",
    "version": 3
   },
   "file_extension": ".py",
   "mimetype": "text/x-python",
   "name": "python",
   "nbconvert_exporter": "python",
   "pygments_lexer": "ipython3",
   "version": "3.9.12"
  }
 },
 "nbformat": 4,
 "nbformat_minor": 4
}
